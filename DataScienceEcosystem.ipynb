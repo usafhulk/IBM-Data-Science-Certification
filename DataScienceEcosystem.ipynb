{
 "cells": [
  {
   "cell_type": "markdown",
   "id": "b36eda0b-f4f0-44d3-96c3-d6bd3f3cd330",
   "metadata": {},
   "source": [
    "# Data Science Tools and Ecosystem"
   ]
  },
  {
   "cell_type": "markdown",
   "id": "2352d11a-af5a-4d29-bf22-4629592f2439",
   "metadata": {},
   "source": [
    "##### In this notebook, some of the basic tops of data science are going to covered."
   ]
  },
  {
   "cell_type": "markdown",
   "id": "5d7bdc3a-8abe-4a7b-a3a7-2b508f4af7eb",
   "metadata": {},
   "source": [
    "## Objectives\n",
    "\n",
    "- Popular languages\n",
    "- Common libraries\n",
    "- Open Source development environments\n",
    "- Basic arithmetic used in python\n",
    "- Arithmetic expressions\n",
    "- Basic function to convert minutes to hours"
   ]
  },
  {
   "cell_type": "markdown",
   "id": "f001ed20-7179-4f6b-968f-d7d8ce4c15e2",
   "metadata": {},
   "source": [
    "## Author Christopher Banner"
   ]
  },
  {
   "cell_type": "markdown",
   "id": "e6fe72c4-8f86-4dd6-99e1-80b2d6561336",
   "metadata": {
    "jp-MarkdownHeadingCollapsed": true
   },
   "source": [
    "##### Some of the popular languages that data scientists us are:\n",
    "\n",
    "1. Python\n",
    "2. R \n",
    "3. Skala"
   ]
  },
  {
   "cell_type": "markdown",
   "id": "5370f9f4-c9b2-4795-ba28-f6d5829a47fd",
   "metadata": {},
   "source": [
    "##### Some of the commonly used libraries by data scientists are:\n",
    "\n",
    "1. Tidyverse\n",
    "2. ggplot2\n",
    "3. dplyr"
   ]
  },
  {
   "cell_type": "markdown",
   "id": "f79d768e-e523-44d3-9f03-b17f45296697",
   "metadata": {},
   "source": [
    "##### Three open source development Environments used by data scientists:\n",
    "\n",
    "| Data Tools |\n",
    "|------------|\n",
    "| Spyder |\n",
    "| Jupyter lab |\n",
    "| RSudio |"
   ]
  },
  {
   "cell_type": "markdown",
   "id": "6f58e9ce-f0ca-484a-a1e6-cefcc232409d",
   "metadata": {},
   "source": [
    "### Below are a few examples of evaluating arithmteic expressions in python:\n",
    "\n",
    "* 5 - 2\n",
    "* 5 + 2\n",
    "* 5 * 2"
   ]
  },
  {
   "cell_type": "code",
   "execution_count": 23,
   "id": "de2b4c10-60fe-4179-8929-5fcf21c764be",
   "metadata": {},
   "outputs": [
    {
     "data": {
      "text/plain": [
       "17"
      ]
     },
     "execution_count": 23,
     "metadata": {},
     "output_type": "execute_result"
    }
   ],
   "source": [
    "# This is a simple arithmetic expression to multiply then add integars.\n",
    "\n",
    "(3 * 4) + 5"
   ]
  },
  {
   "cell_type": "code",
   "execution_count": 25,
   "id": "9802a805-dcca-4843-a252-722b7f6877e4",
   "metadata": {},
   "outputs": [
    {
     "name": "stdout",
     "output_type": "stream",
     "text": [
      "3.3333333333333335\n"
     ]
    }
   ],
   "source": [
    "# This will convert minutes into hours via a simple funtion and function call\n",
    "\n",
    "def minutes_into_hours(minutes):\n",
    "    hours = minutes/60\n",
    "    return hours\n",
    "\n",
    "minutes = 200\n",
    "hours = minutes_into_hours(minutes)\n",
    "print(hours)"
   ]
  }
 ],
 "metadata": {
  "kernelspec": {
   "display_name": "Python [conda env:base] *",
   "language": "python",
   "name": "conda-base-py"
  },
  "language_info": {
   "codemirror_mode": {
    "name": "ipython",
    "version": 3
   },
   "file_extension": ".py",
   "mimetype": "text/x-python",
   "name": "python",
   "nbconvert_exporter": "python",
   "pygments_lexer": "ipython3",
   "version": "3.12.7"
  }
 },
 "nbformat": 4,
 "nbformat_minor": 5
}
